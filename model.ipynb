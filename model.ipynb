{
 "cells": [
  {
   "cell_type": "markdown",
   "metadata": {},
   "source": [
    "## Required libraries"
   ]
  },
  {
   "cell_type": "code",
   "execution_count": 1,
   "metadata": {},
   "outputs": [],
   "source": [
    "import pandas as pd\n",
    "import numpy as np\n",
    "import matplotlib.pyplot as plt\n",
    "import re\n",
    "import nltk\n",
    "from sklearn.model_selection import train_test_split\n",
    "from sklearn.feature_extraction.text import CountVectorizer\n",
    "from sklearn.feature_extraction.text import TfidfVectorizer\n",
    "from sklearn.naive_bayes import MultinomialNB\n",
    "from nltk.stem.porter import PorterStemmer\n",
    "from sklearn.metrics import accuracy_score, confusion_matrix\n",
    "from nltk.stem.porter import PorterStemmer\n",
    "from nltk.corpus import stopwords"
   ]
  },
  {
   "cell_type": "code",
   "execution_count": 2,
   "metadata": {},
   "outputs": [],
   "source": [
    "# making lists to append all tweets/data to\n",
    "# tweets = []"
   ]
  },
  {
   "cell_type": "code",
   "execution_count": 3,
   "metadata": {},
   "outputs": [],
   "source": [
    "# using sntwitter to scrape tweets and append data to lists\n",
    "# for i,tweet in enumerate(sntwitter.TwitterSearchScraper('from:cnnbrk').get_items()):\n",
    "#     if i>5000:\n",
    "#         break\n",
    "#     tweets.append([tweet.content])"
   ]
  },
  {
   "cell_type": "code",
   "execution_count": 4,
   "metadata": {},
   "outputs": [],
   "source": [
    "# making a dataframe from the tweets list above \n",
    "# cnn_tweets = pd.DataFrame(tweets, columns=[\"Tweets\"])"
   ]
  },
  {
   "cell_type": "code",
   "execution_count": 5,
   "metadata": {},
   "outputs": [],
   "source": [
    "# cnn_tweets.drop_duplicates()"
   ]
  },
  {
   "cell_type": "code",
   "execution_count": 6,
   "metadata": {},
   "outputs": [],
   "source": [
    "# cnn_tweets.to_csv('/Users/lucashawranke/documents/data-science/sarcasm-scanner/data/cnn_tweets.csv')"
   ]
  },
  {
   "cell_type": "code",
   "execution_count": 7,
   "metadata": {},
   "outputs": [],
   "source": [
    "# while on my mac\n",
    "cnn_tweets = pd.read_csv('/Users/lucashawranke/Documents/data-science/sarcasm-scanner/data/cnn_tweets.csv')\n",
    "onion_tweets = pd.read_csv('/Users/lucashawranke/Documents/data-science/sarcasm-scanner/data/onion_tweets.csv')\n",
    "\n",
    "# while on my pc\n",
    "# cnn_tweets = pd.read_csv('/Users/lucas/data-science/sarcasm-scanner/data/cnn_tweets.csv')\n",
    "# onion_tweets = pd.read_csv('/Users/lucas/data-science/sarcasm-scanner/data/onion_tweets.csv')"
   ]
  },
  {
   "cell_type": "code",
   "execution_count": 8,
   "metadata": {},
   "outputs": [
    {
     "data": {
      "text/html": [
       "<div>\n",
       "<style scoped>\n",
       "    .dataframe tbody tr th:only-of-type {\n",
       "        vertical-align: middle;\n",
       "    }\n",
       "\n",
       "    .dataframe tbody tr th {\n",
       "        vertical-align: top;\n",
       "    }\n",
       "\n",
       "    .dataframe thead th {\n",
       "        text-align: right;\n",
       "    }\n",
       "</style>\n",
       "<table border=\"1\" class=\"dataframe\">\n",
       "  <thead>\n",
       "    <tr style=\"text-align: right;\">\n",
       "      <th></th>\n",
       "      <th>Unnamed: 0</th>\n",
       "      <th>Tweets</th>\n",
       "    </tr>\n",
       "  </thead>\n",
       "  <tbody>\n",
       "    <tr>\n",
       "      <th>0</th>\n",
       "      <td>0</td>\n",
       "      <td>Spain boosts security as prime minister target...</td>\n",
       "    </tr>\n",
       "    <tr>\n",
       "      <th>1</th>\n",
       "      <td>1</td>\n",
       "      <td>The House Ways and Means Committee now has six...</td>\n",
       "    </tr>\n",
       "    <tr>\n",
       "      <th>2</th>\n",
       "      <td>2</td>\n",
       "      <td>Christine McVie, the singer-songwriter behind ...</td>\n",
       "    </tr>\n",
       "    <tr>\n",
       "      <th>3</th>\n",
       "      <td>3</td>\n",
       "      <td>House Democrats pick Hakeem Jeffries of New Yo...</td>\n",
       "    </tr>\n",
       "    <tr>\n",
       "      <th>4</th>\n",
       "      <td>4</td>\n",
       "      <td>An explosion occurred at Ukraine's embassy in ...</td>\n",
       "    </tr>\n",
       "  </tbody>\n",
       "</table>\n",
       "</div>"
      ],
      "text/plain": [
       "   Unnamed: 0                                             Tweets\n",
       "0           0  Spain boosts security as prime minister target...\n",
       "1           1  The House Ways and Means Committee now has six...\n",
       "2           2  Christine McVie, the singer-songwriter behind ...\n",
       "3           3  House Democrats pick Hakeem Jeffries of New Yo...\n",
       "4           4  An explosion occurred at Ukraine's embassy in ..."
      ]
     },
     "execution_count": 8,
     "metadata": {},
     "output_type": "execute_result"
    }
   ],
   "source": [
    "cnn_tweets.head()"
   ]
  },
  {
   "cell_type": "code",
   "execution_count": 9,
   "metadata": {},
   "outputs": [],
   "source": [
    "train_x = cnn_tweets[:4000]\n",
    "train_y = onion_tweets[:4000]\n",
    "\n",
    "test_x = cnn_tweets[-1000:]\n",
    "test_y = onion_tweets[-1000:]"
   ]
  },
  {
   "cell_type": "code",
   "execution_count": 10,
   "metadata": {},
   "outputs": [
    {
     "data": {
      "text/plain": [
       "Unnamed: 0    4000\n",
       "Tweets        4000\n",
       "dtype: int64"
      ]
     },
     "execution_count": 10,
     "metadata": {},
     "output_type": "execute_result"
    }
   ],
   "source": [
    "train_x.count()"
   ]
  },
  {
   "cell_type": "code",
   "execution_count": 11,
   "metadata": {},
   "outputs": [
    {
     "data": {
      "text/plain": [
       "Unnamed: 0    4000\n",
       "Tweets        4000\n",
       "dtype: int64"
      ]
     },
     "execution_count": 11,
     "metadata": {},
     "output_type": "execute_result"
    }
   ],
   "source": [
    "train_y.count()"
   ]
  },
  {
   "cell_type": "code",
   "execution_count": 12,
   "metadata": {},
   "outputs": [
    {
     "data": {
      "text/plain": [
       "Unnamed: 0    1000\n",
       "Tweets        1000\n",
       "dtype: int64"
      ]
     },
     "execution_count": 12,
     "metadata": {},
     "output_type": "execute_result"
    }
   ],
   "source": [
    "test_x.count()"
   ]
  },
  {
   "cell_type": "code",
   "execution_count": 13,
   "metadata": {},
   "outputs": [
    {
     "data": {
      "text/plain": [
       "Unnamed: 0    1000\n",
       "Tweets        1000\n",
       "dtype: int64"
      ]
     },
     "execution_count": 13,
     "metadata": {},
     "output_type": "execute_result"
    }
   ],
   "source": [
    "test_y.count()"
   ]
  },
  {
   "cell_type": "code",
   "execution_count": 14,
   "metadata": {},
   "outputs": [],
   "source": [
    "# tweets2 = []"
   ]
  },
  {
   "cell_type": "code",
   "execution_count": 15,
   "metadata": {},
   "outputs": [],
   "source": [
    "# for i,tweet in enumerate(sntwitter.TwitterSearchScraper('from:theonion').get_items()):\n",
    "#     if i>5000:\n",
    "#         break\n",
    "#     tweets2.append([tweet.content])"
   ]
  },
  {
   "cell_type": "code",
   "execution_count": 16,
   "metadata": {},
   "outputs": [],
   "source": [
    "# onion_tweets = pd.DataFrame(tweets2, columns=[\"Tweets\"])"
   ]
  },
  {
   "cell_type": "code",
   "execution_count": 17,
   "metadata": {},
   "outputs": [
    {
     "data": {
      "text/html": [
       "<div>\n",
       "<style scoped>\n",
       "    .dataframe tbody tr th:only-of-type {\n",
       "        vertical-align: middle;\n",
       "    }\n",
       "\n",
       "    .dataframe tbody tr th {\n",
       "        vertical-align: top;\n",
       "    }\n",
       "\n",
       "    .dataframe thead th {\n",
       "        text-align: right;\n",
       "    }\n",
       "</style>\n",
       "<table border=\"1\" class=\"dataframe\">\n",
       "  <thead>\n",
       "    <tr style=\"text-align: right;\">\n",
       "      <th></th>\n",
       "      <th>Unnamed: 0</th>\n",
       "      <th>Tweets</th>\n",
       "    </tr>\n",
       "  </thead>\n",
       "  <tbody>\n",
       "    <tr>\n",
       "      <th>0</th>\n",
       "      <td>0</td>\n",
       "      <td>Biden’s Secret Service Rental Cars Burst Into ...</td>\n",
       "    </tr>\n",
       "    <tr>\n",
       "      <th>1</th>\n",
       "      <td>1</td>\n",
       "      <td>Exterminator Kind Of Surprised Apartment Doesn...</td>\n",
       "    </tr>\n",
       "    <tr>\n",
       "      <th>2</th>\n",
       "      <td>2</td>\n",
       "      <td>“Sharks can’t get cavities because their teeth...</td>\n",
       "    </tr>\n",
       "    <tr>\n",
       "      <th>3</th>\n",
       "      <td>3</td>\n",
       "      <td>Man Coming To Terms With Fact That Shower Not ...</td>\n",
       "    </tr>\n",
       "    <tr>\n",
       "      <th>4</th>\n",
       "      <td>4</td>\n",
       "      <td>https://t.co/Ks3xlHzCa1</td>\n",
       "    </tr>\n",
       "  </tbody>\n",
       "</table>\n",
       "</div>"
      ],
      "text/plain": [
       "   Unnamed: 0                                             Tweets\n",
       "0           0  Biden’s Secret Service Rental Cars Burst Into ...\n",
       "1           1  Exterminator Kind Of Surprised Apartment Doesn...\n",
       "2           2  “Sharks can’t get cavities because their teeth...\n",
       "3           3  Man Coming To Terms With Fact That Shower Not ...\n",
       "4           4                            https://t.co/Ks3xlHzCa1"
      ]
     },
     "execution_count": 17,
     "metadata": {},
     "output_type": "execute_result"
    }
   ],
   "source": [
    "onion_tweets.head()"
   ]
  },
  {
   "cell_type": "code",
   "execution_count": 18,
   "metadata": {},
   "outputs": [],
   "source": [
    "# onion_tweets.to_csv('/Users/lucashawranke/documents/data-science/sarcasm-scanner/data/onion_tweets.csv')"
   ]
  },
  {
   "cell_type": "code",
   "execution_count": 19,
   "metadata": {},
   "outputs": [],
   "source": [
    "from sklearn.feature_extraction.text import CountVectorizer\n",
    "from sklearn.decomposition import PCA #allows us to calculate # of components needed to explain data\n",
    "\n",
    "vectorizer=CountVectorizer()\n",
    "x_vectorize=vectorizer.fit_transform(cnn_tweets.Tweets).toarray() #to turn the sentences into values\n",
    "x_vectorize.shape               \n",
    "pca=PCA(n_components=2)\n",
    "x_pca=pca.fit_transform(x_vectorize) #reducing the dimentionality to 2\n",
    "\n",
    "cnn_tweets['x']=x_pca[:,0]\n",
    "cnn_tweets['y']=x_pca[:,1]"
   ]
  },
  {
   "cell_type": "code",
   "execution_count": 20,
   "metadata": {},
   "outputs": [
    {
     "data": {
      "image/png": "[encoded data removed]",
      "text/plain": [
       "<Figure size 432x288 with 1 Axes>"
      ]
     },
     "metadata": {
      "needs_background": "light"
     },
     "output_type": "display_data"
    }
   ],
   "source": [
    "import matplotlib.pyplot as plt\n",
    "plt.style.use('fast')\n",
    "plt.title('CNN Tweets (one cluster)')\n",
    "plt.xlabel(\"x\")\n",
    "plt.ylabel(\"y\")\n",
    "plt.style.use(\"seaborn\")\n",
    "plt.scatter(x_pca[:,0],x_pca[:,1]); #visualizing all clusters on same panel"
   ]
  },
  {
   "cell_type": "code",
   "execution_count": 21,
   "metadata": {},
   "outputs": [],
   "source": [
    "from sklearn.feature_extraction.text import CountVectorizer\n",
    "from sklearn.decomposition import PCA #allows us to calculate # of components needed to explain data\n",
    "\n",
    "vectorizer=CountVectorizer()\n",
    "\n",
    "x_vectorize=vectorizer.fit_transform(onion_tweets.Tweets).toarray() #to turn the sentences into values\n",
    "x_vectorize.shape               \n",
    "pca=PCA(n_components=2)\n",
    "x_pca=pca.fit_transform(x_vectorize) #reducing the dimentionality to 2\n",
    "\n",
    "onion_tweets['x']=x_pca[:,0]\n",
    "onion_tweets['y']=x_pca[:,1]"
   ]
  },
  {
   "cell_type": "code",
   "execution_count": 22,
   "metadata": {},
   "outputs": [
    {
     "data": {
      "image/png": "[encoded data removed]",
      "text/plain": [
       "<Figure size 576x396 with 1 Axes>"
      ]
     },
     "metadata": {},
     "output_type": "display_data"
    }
   ],
   "source": [
    "plt.style.use('fast')\n",
    "plt.title('The Onion Tweets (One Cluster)')\n",
    "plt.xlabel(\"x2\")\n",
    "plt.ylabel(\"y2\")\n",
    "plt.style.use(\"seaborn\")\n",
    "plt.scatter(x_pca[:,0],x_pca[:,1]); #visualizing all clusters on same panel"
   ]
  },
  {
   "cell_type": "code",
   "execution_count": null,
   "metadata": {},
   "outputs": [],
   "source": []
  },
  {
   "cell_type": "code",
   "execution_count": 23,
   "metadata": {},
   "outputs": [],
   "source": [
    "#mac\n",
    "real_tweets = pd.read_csv('/Users/lucashawranke/Documents/data-science/sarcasm-scanner/data/cnn_tweets.csv')\n",
    "fake_tweets = pd.read_csv('/Users/lucashawranke/Documents/data-science/sarcasm-scanner/data/onion_tweets.csv')\n",
    "\n",
    "#pc\n",
    "# real_tweets = pd.read_csv('/Users/lucas/data-science/sarcasm-scanner/data/cnn_tweets.csv')\n",
    "# fake_tweets = pd.read_csv('/Users/lucas/data-science/sarcasm-scanner/data/onion_tweets.csv')\n",
    "\n",
    "real_tweets['Authenticity'] = 'Real'\n",
    "fake_tweets['Authenticity'] = 'Fake'\n",
    "\n",
    "df = pd.concat([real_tweets, fake_tweets])"
   ]
  },
  {
   "cell_type": "code",
   "execution_count": 24,
   "metadata": {},
   "outputs": [
    {
     "data": {
      "text/html": [
       "<div>\n",
       "<style scoped>\n",
       "    .dataframe tbody tr th:only-of-type {\n",
       "        vertical-align: middle;\n",
       "    }\n",
       "\n",
       "    .dataframe tbody tr th {\n",
       "        vertical-align: top;\n",
       "    }\n",
       "\n",
       "    .dataframe thead th {\n",
       "        text-align: right;\n",
       "    }\n",
       "</style>\n",
       "<table border=\"1\" class=\"dataframe\">\n",
       "  <thead>\n",
       "    <tr style=\"text-align: right;\">\n",
       "      <th></th>\n",
       "      <th>Unnamed: 0</th>\n",
       "      <th>Tweets</th>\n",
       "      <th>Authenticity</th>\n",
       "    </tr>\n",
       "  </thead>\n",
       "  <tbody>\n",
       "    <tr>\n",
       "      <th>0</th>\n",
       "      <td>0</td>\n",
       "      <td>Spain boosts security as prime minister target...</td>\n",
       "      <td>Real</td>\n",
       "    </tr>\n",
       "    <tr>\n",
       "      <th>1</th>\n",
       "      <td>1</td>\n",
       "      <td>The House Ways and Means Committee now has six...</td>\n",
       "      <td>Real</td>\n",
       "    </tr>\n",
       "    <tr>\n",
       "      <th>2</th>\n",
       "      <td>2</td>\n",
       "      <td>Christine McVie, the singer-songwriter behind ...</td>\n",
       "      <td>Real</td>\n",
       "    </tr>\n",
       "    <tr>\n",
       "      <th>3</th>\n",
       "      <td>3</td>\n",
       "      <td>House Democrats pick Hakeem Jeffries of New Yo...</td>\n",
       "      <td>Real</td>\n",
       "    </tr>\n",
       "    <tr>\n",
       "      <th>4</th>\n",
       "      <td>4</td>\n",
       "      <td>An explosion occurred at Ukraine's embassy in ...</td>\n",
       "      <td>Real</td>\n",
       "    </tr>\n",
       "    <tr>\n",
       "      <th>...</th>\n",
       "      <td>...</td>\n",
       "      <td>...</td>\n",
       "      <td>...</td>\n",
       "    </tr>\n",
       "    <tr>\n",
       "      <th>4996</th>\n",
       "      <td>4996</td>\n",
       "      <td>Woman Not So Lactose Intolerant When Boyfriend...</td>\n",
       "      <td>Fake</td>\n",
       "    </tr>\n",
       "    <tr>\n",
       "      <th>4997</th>\n",
       "      <td>4997</td>\n",
       "      <td>Customers Relieved To See Perky 7-Eleven Cashi...</td>\n",
       "      <td>Fake</td>\n",
       "    </tr>\n",
       "    <tr>\n",
       "      <th>4998</th>\n",
       "      <td>4998</td>\n",
       "      <td>Complete Psychopath Meets Proper Screen Time, ...</td>\n",
       "      <td>Fake</td>\n",
       "    </tr>\n",
       "    <tr>\n",
       "      <th>4999</th>\n",
       "      <td>4999</td>\n",
       "      <td>Everyone Still Remembers Time You Threw Up In ...</td>\n",
       "      <td>Fake</td>\n",
       "    </tr>\n",
       "    <tr>\n",
       "      <th>5000</th>\n",
       "      <td>5000</td>\n",
       "      <td>“No one can explain why, but not a single weld...</td>\n",
       "      <td>Fake</td>\n",
       "    </tr>\n",
       "  </tbody>\n",
       "</table>\n",
       "<p>10002 rows × 3 columns</p>\n",
       "</div>"
      ],
      "text/plain": [
       "      Unnamed: 0                                             Tweets  \\\n",
       "0              0  Spain boosts security as prime minister target...   \n",
       "1              1  The House Ways and Means Committee now has six...   \n",
       "2              2  Christine McVie, the singer-songwriter behind ...   \n",
       "3              3  House Democrats pick Hakeem Jeffries of New Yo...   \n",
       "4              4  An explosion occurred at Ukraine's embassy in ...   \n",
       "...          ...                                                ...   \n",
       "4996        4996  Woman Not So Lactose Intolerant When Boyfriend...   \n",
       "4997        4997  Customers Relieved To See Perky 7-Eleven Cashi...   \n",
       "4998        4998  Complete Psychopath Meets Proper Screen Time, ...   \n",
       "4999        4999  Everyone Still Remembers Time You Threw Up In ...   \n",
       "5000        5000  “No one can explain why, but not a single weld...   \n",
       "\n",
       "     Authenticity  \n",
       "0            Real  \n",
       "1            Real  \n",
       "2            Real  \n",
       "3            Real  \n",
       "4            Real  \n",
       "...           ...  \n",
       "4996         Fake  \n",
       "4997         Fake  \n",
       "4998         Fake  \n",
       "4999         Fake  \n",
       "5000         Fake  \n",
       "\n",
       "[10002 rows x 3 columns]"
      ]
     },
     "execution_count": 24,
     "metadata": {},
     "output_type": "execute_result"
    }
   ],
   "source": [
    "df"
   ]
  },
  {
   "cell_type": "code",
   "execution_count": 25,
   "metadata": {},
   "outputs": [],
   "source": [
    "X = df.drop('Authenticity', axis=1) \n",
    "y = df['Authenticity']\n",
    "\n",
    "# removing NaN data\n",
    "\n",
    "df = df.dropna()\n",
    "df2 = df.copy()\n",
    "df2.reset_index(inplace=True)"
   ]
  },
  {
   "cell_type": "code",
   "execution_count": 26,
   "metadata": {},
   "outputs": [
    {
     "data": {
      "text/html": [
       "<div>\n",
       "<style scoped>\n",
       "    .dataframe tbody tr th:only-of-type {\n",
       "        vertical-align: middle;\n",
       "    }\n",
       "\n",
       "    .dataframe tbody tr th {\n",
       "        vertical-align: top;\n",
       "    }\n",
       "\n",
       "    .dataframe thead th {\n",
       "        text-align: right;\n",
       "    }\n",
       "</style>\n",
       "<table border=\"1\" class=\"dataframe\">\n",
       "  <thead>\n",
       "    <tr style=\"text-align: right;\">\n",
       "      <th></th>\n",
       "      <th>index</th>\n",
       "      <th>Unnamed: 0</th>\n",
       "      <th>Tweets</th>\n",
       "      <th>Authenticity</th>\n",
       "    </tr>\n",
       "  </thead>\n",
       "  <tbody>\n",
       "    <tr>\n",
       "      <th>0</th>\n",
       "      <td>0</td>\n",
       "      <td>0</td>\n",
       "      <td>Spain boosts security as prime minister target...</td>\n",
       "      <td>Real</td>\n",
       "    </tr>\n",
       "    <tr>\n",
       "      <th>1</th>\n",
       "      <td>1</td>\n",
       "      <td>1</td>\n",
       "      <td>The House Ways and Means Committee now has six...</td>\n",
       "      <td>Real</td>\n",
       "    </tr>\n",
       "    <tr>\n",
       "      <th>2</th>\n",
       "      <td>2</td>\n",
       "      <td>2</td>\n",
       "      <td>Christine McVie, the singer-songwriter behind ...</td>\n",
       "      <td>Real</td>\n",
       "    </tr>\n",
       "    <tr>\n",
       "      <th>3</th>\n",
       "      <td>3</td>\n",
       "      <td>3</td>\n",
       "      <td>House Democrats pick Hakeem Jeffries of New Yo...</td>\n",
       "      <td>Real</td>\n",
       "    </tr>\n",
       "    <tr>\n",
       "      <th>4</th>\n",
       "      <td>4</td>\n",
       "      <td>4</td>\n",
       "      <td>An explosion occurred at Ukraine's embassy in ...</td>\n",
       "      <td>Real</td>\n",
       "    </tr>\n",
       "    <tr>\n",
       "      <th>...</th>\n",
       "      <td>...</td>\n",
       "      <td>...</td>\n",
       "      <td>...</td>\n",
       "      <td>...</td>\n",
       "    </tr>\n",
       "    <tr>\n",
       "      <th>9997</th>\n",
       "      <td>4996</td>\n",
       "      <td>4996</td>\n",
       "      <td>Woman Not So Lactose Intolerant When Boyfriend...</td>\n",
       "      <td>Fake</td>\n",
       "    </tr>\n",
       "    <tr>\n",
       "      <th>9998</th>\n",
       "      <td>4997</td>\n",
       "      <td>4997</td>\n",
       "      <td>Customers Relieved To See Perky 7-Eleven Cashi...</td>\n",
       "      <td>Fake</td>\n",
       "    </tr>\n",
       "    <tr>\n",
       "      <th>9999</th>\n",
       "      <td>4998</td>\n",
       "      <td>4998</td>\n",
       "      <td>Complete Psychopath Meets Proper Screen Time, ...</td>\n",
       "      <td>Fake</td>\n",
       "    </tr>\n",
       "    <tr>\n",
       "      <th>10000</th>\n",
       "      <td>4999</td>\n",
       "      <td>4999</td>\n",
       "      <td>Everyone Still Remembers Time You Threw Up In ...</td>\n",
       "      <td>Fake</td>\n",
       "    </tr>\n",
       "    <tr>\n",
       "      <th>10001</th>\n",
       "      <td>5000</td>\n",
       "      <td>5000</td>\n",
       "      <td>“No one can explain why, but not a single weld...</td>\n",
       "      <td>Fake</td>\n",
       "    </tr>\n",
       "  </tbody>\n",
       "</table>\n",
       "<p>10002 rows × 4 columns</p>\n",
       "</div>"
      ],
      "text/plain": [
       "       index  Unnamed: 0                                             Tweets  \\\n",
       "0          0           0  Spain boosts security as prime minister target...   \n",
       "1          1           1  The House Ways and Means Committee now has six...   \n",
       "2          2           2  Christine McVie, the singer-songwriter behind ...   \n",
       "3          3           3  House Democrats pick Hakeem Jeffries of New Yo...   \n",
       "4          4           4  An explosion occurred at Ukraine's embassy in ...   \n",
       "...      ...         ...                                                ...   \n",
       "9997    4996        4996  Woman Not So Lactose Intolerant When Boyfriend...   \n",
       "9998    4997        4997  Customers Relieved To See Perky 7-Eleven Cashi...   \n",
       "9999    4998        4998  Complete Psychopath Meets Proper Screen Time, ...   \n",
       "10000   4999        4999  Everyone Still Remembers Time You Threw Up In ...   \n",
       "10001   5000        5000  “No one can explain why, but not a single weld...   \n",
       "\n",
       "      Authenticity  \n",
       "0             Real  \n",
       "1             Real  \n",
       "2             Real  \n",
       "3             Real  \n",
       "4             Real  \n",
       "...            ...  \n",
       "9997          Fake  \n",
       "9998          Fake  \n",
       "9999          Fake  \n",
       "10000         Fake  \n",
       "10001         Fake  \n",
       "\n",
       "[10002 rows x 4 columns]"
      ]
     },
     "execution_count": 26,
     "metadata": {},
     "output_type": "execute_result"
    }
   ],
   "source": [
    "df2"
   ]
  },
  {
   "cell_type": "code",
   "execution_count": 27,
   "metadata": {},
   "outputs": [],
   "source": [
    "train, test = train_test_split(df, test_size = 0.2, random_state = 42)"
   ]
  },
  {
   "cell_type": "code",
   "execution_count": 28,
   "metadata": {},
   "outputs": [],
   "source": [
    "from sklearn.pipeline import Pipeline"
   ]
  },
  {
   "cell_type": "code",
   "execution_count": 29,
   "metadata": {},
   "outputs": [
    {
     "data": {
      "text/plain": [
       "Pipeline(steps=[('vectorizer', TfidfVectorizer(stop_words='english')),\n",
       "                ('nb', MultinomialNB())])"
      ]
     },
     "execution_count": 29,
     "metadata": {},
     "output_type": "execute_result"
    }
   ],
   "source": [
    "mnb = MultinomialNB()\n",
    "vectorizer = TfidfVectorizer(stop_words = 'english')\n",
    "\n",
    "pipe = Pipeline([('vectorizer', vectorizer), ('nb', mnb)])\n",
    "pipe.fit(train.Tweets, train.Authenticity)"
   ]
  },
  {
   "cell_type": "code",
   "execution_count": 30,
   "metadata": {},
   "outputs": [
    {
     "name": "stdout",
     "output_type": "stream",
     "text": [
      "accuracy:  0.927536231884058\n",
      "confusion matrix:  [[ 852  140]\n",
      " [   5 1004]]\n"
     ]
    }
   ],
   "source": [
    "predictions = pipe.predict(test.Tweets)\n",
    "\n",
    "print('accuracy: ', accuracy_score(test['Authenticity'], predictions))\n",
    "print('confusion matrix: ', confusion_matrix(test['Authenticity'], predictions))"
   ]
  },
  {
   "cell_type": "code",
   "execution_count": 31,
   "metadata": {},
   "outputs": [
    {
     "name": "stdout",
     "output_type": "stream",
     "text": [
      "['Fake']\n"
     ]
    }
   ],
   "source": [
    "headline = np.array([[\"He Must Really Suck: This Kid Just Got Cut From The JV Basketball Team To Make A Spot For Skyler Gisondo\"]])\n",
    "predictions = pipe.predict(headline[0])\n",
    "\n",
    "print(predictions)"
   ]
  },
  {
   "cell_type": "code",
   "execution_count": 32,
   "metadata": {},
   "outputs": [
    {
     "data": {
      "text/plain": [
       "['/Users/lucashawranke/Documents/data-science/sarcasm-scanner/model.pkl']"
      ]
     },
     "execution_count": 32,
     "metadata": {},
     "output_type": "execute_result"
    }
   ],
   "source": [
    "import joblib\n",
    "joblib.dump(pipe, '/Users/lucashawranke/Documents/data-science/sarcasm-scanner/model.pkl') #mac\n",
    "# joblib.dump(pipe, '/Users/lucas/data-science/sarcasm-scanner/model.pkl') #pc"
   ]
  },
  {
   "cell_type": "code",
   "execution_count": 34,
   "metadata": {},
   "outputs": [],
   "source": [
    "import pickle\n",
    "#mac\n",
    "with open('/Users/lucashawranke/Documents/data-science/sarcasm-scanner/model.pkl', 'wb') as files:\n",
    "    pickle.dump(pipe, files)\n",
    "#pc\n",
    "# with open('/Users/lucas/data-science/sarcasm-scanner/model.pkl', 'wb') as files:\n",
    "#     pickle.dump(pipe, files)"
   ]
  },
  {
   "cell_type": "code",
   "execution_count": 35,
   "metadata": {},
   "outputs": [],
   "source": [
    "from sklearn.svm import LinearSVC"
   ]
  },
  {
   "cell_type": "code",
   "execution_count": 38,
   "metadata": {},
   "outputs": [
    {
     "name": "stdout",
     "output_type": "stream",
     "text": [
      "accuracy:  0.9850074962518741\n",
      "confusion matrix:  [[980  12]\n",
      " [ 18 991]]\n"
     ]
    }
   ],
   "source": [
    "svc = LinearSVC()\n",
    "vectorizer = TfidfVectorizer(stop_words = 'english')\n",
    "\n",
    "pipe = Pipeline([('vectorizer', vectorizer), ('svc', svc)])\n",
    "pipe.fit(train.Tweets, train.Authenticity)\n",
    "\n",
    "predictions = pipe.predict(test.Tweets)\n",
    "\n",
    "print('accuracy: ', accuracy_score(test['Authenticity'], predictions))\n",
    "print('confusion matrix: ', confusion_matrix(test['Authenticity'], predictions))"
   ]
  },
  {
   "cell_type": "code",
   "execution_count": 39,
   "metadata": {},
   "outputs": [
    {
     "data": {
      "text/plain": [
       "['/Users/lucashawranke/documents/data-science/sarcasm-scanner/model2.pkl']"
      ]
     },
     "execution_count": 39,
     "metadata": {},
     "output_type": "execute_result"
    }
   ],
   "source": [
    "joblib.dump(pipe, '/Users/lucashawranke/documents/data-science/sarcasm-scanner/model2.pkl') #mac\n",
    "# joblib.dump(pipe, '/Users/lucas/data-science/sarcasm-scanner/model2.pkl') #pc"
   ]
  }
 ],
 "metadata": {
  "kernelspec": {
   "display_name": "Python 3.9.12",
   "language": "python",
   "name": "python3"
  },
  "language_info": {
   "codemirror_mode": {
    "name": "ipython",
    "version": 3
   },
   "file_extension": ".py",
   "mimetype": "text/x-python",
   "name": "python",
   "nbconvert_exporter": "python",
   "pygments_lexer": "ipython3",
   "version": "3.9.12"
  },
  "orig_nbformat": 4,
  "vscode": {
   "interpreter": {
    "hash": "0cc3b03a9a7e4010a291141970bf1cb2053c725e17844b2b26603859505c2b66"
   }
  }
 },
 "nbformat": 4,
 "nbformat_minor": 2
}
