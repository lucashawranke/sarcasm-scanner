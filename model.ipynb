{
 "cells": [
  {
   "cell_type": "markdown",
   "metadata": {},
   "source": [
    "## Required libraries"
   ]
  },
  {
   "cell_type": "code",
   "execution_count": 2,
   "metadata": {},
   "outputs": [],
   "source": [
    "import pandas as pd\n",
    "import numpy as np\n",
    "import matplotlib.pyplot as plt\n",
    "import re\n",
    "import nltk\n",
    "import joblib\n",
    "import pickle\n",
    "import snscrape.modules.twitter as sntwitter\n",
    "from sklearn.model_selection import train_test_split\n",
    "from sklearn.feature_extraction.text import CountVectorizer\n",
    "from sklearn.feature_extraction.text import TfidfVectorizer\n",
    "from sklearn.naive_bayes import MultinomialNB\n",
    "from sklearn.svm import LinearSVC\n",
    "from sklearn.pipeline import Pipeline\n",
    "from nltk.stem.porter import PorterStemmer\n",
    "from sklearn.metrics import accuracy_score, confusion_matrix\n",
    "from nltk.stem.porter import PorterStemmer\n",
    "from nltk.corpus import stopwords"
   ]
  },
  {
   "cell_type": "code",
   "execution_count": 10,
   "metadata": {},
   "outputs": [],
   "source": [
    "# making lists to append all tweets/data to\n",
    "real = []\n",
    "satire = []"
   ]
  },
  {
   "cell_type": "code",
   "execution_count": 11,
   "metadata": {},
   "outputs": [],
   "source": [
    "# using sntwitter to scrape tweets and append data to lists\n",
    "for i,tweet in enumerate(sntwitter.TwitterSearchScraper('from:cnnbrk').get_items()):\n",
    "    if i>5000:\n",
    "        break\n",
    "    real.append([tweet.content])"
   ]
  },
  {
   "cell_type": "code",
   "execution_count": 12,
   "metadata": {},
   "outputs": [],
   "source": [
    "for i,tweet in enumerate(sntwitter.TwitterSearchScraper('from:enews').get_items()):\n",
    "    if i>5000:\n",
    "        break\n",
    "    real.append([tweet.content])"
   ]
  },
  {
   "cell_type": "code",
   "execution_count": 13,
   "metadata": {},
   "outputs": [],
   "source": [
    "real = pd.DataFrame(real)"
   ]
  },
  {
   "cell_type": "code",
   "execution_count": 14,
   "metadata": {},
   "outputs": [],
   "source": [
    "real.to_csv('/Users/lucashawranke/Documents/data-science/sarcasm-scanner/data/real_tweets.csv') #mac\n",
    "# real.to_csv('/Users/lucas/data-science/sarcasm-scanner/data/real_tweets.csv') #pc"
   ]
  },
  {
   "cell_type": "code",
   "execution_count": 15,
   "metadata": {},
   "outputs": [
    {
     "data": {
      "text/html": [
       "<div>\n",
       "<style scoped>\n",
       "    .dataframe tbody tr th:only-of-type {\n",
       "        vertical-align: middle;\n",
       "    }\n",
       "\n",
       "    .dataframe tbody tr th {\n",
       "        vertical-align: top;\n",
       "    }\n",
       "\n",
       "    .dataframe thead th {\n",
       "        text-align: right;\n",
       "    }\n",
       "</style>\n",
       "<table border=\"1\" class=\"dataframe\">\n",
       "  <thead>\n",
       "    <tr style=\"text-align: right;\">\n",
       "      <th></th>\n",
       "      <th>0</th>\n",
       "    </tr>\n",
       "  </thead>\n",
       "  <tbody>\n",
       "    <tr>\n",
       "      <th>0</th>\n",
       "      <td>Nick Cannon is getting some rest after coming ...</td>\n",
       "    </tr>\n",
       "    <tr>\n",
       "      <th>1</th>\n",
       "      <td>Team USA eliminated from the World Cup after a...</td>\n",
       "    </tr>\n",
       "    <tr>\n",
       "      <th>2</th>\n",
       "      <td>A man has been arrested and charged with murde...</td>\n",
       "    </tr>\n",
       "    <tr>\n",
       "      <th>3</th>\n",
       "      <td>Right-wing conspiracy theorist Alex Jones file...</td>\n",
       "    </tr>\n",
       "    <tr>\n",
       "      <th>4</th>\n",
       "      <td>America added a robust 263,000 jobs last month...</td>\n",
       "    </tr>\n",
       "    <tr>\n",
       "      <th>...</th>\n",
       "      <td>...</td>\n",
       "    </tr>\n",
       "    <tr>\n",
       "      <th>9997</th>\n",
       "      <td>Someone sedate E! ❤️ Sandra Oh had a mini Grey...</td>\n",
       "    </tr>\n",
       "    <tr>\n",
       "      <th>9998</th>\n",
       "      <td>Tori Spelling's Best Friend and \"Guncle\" Scout...</td>\n",
       "    </tr>\n",
       "    <tr>\n",
       "      <th>9999</th>\n",
       "      <td>Zendaya and More Best Dressed Stars at the 202...</td>\n",
       "    </tr>\n",
       "    <tr>\n",
       "      <th>10000</th>\n",
       "      <td>Pete Davidson Makes Surprise Appearance at 202...</td>\n",
       "    </tr>\n",
       "    <tr>\n",
       "      <th>10001</th>\n",
       "      <td>Yes, Kenan Thompson Really Danced to Theme Son...</td>\n",
       "    </tr>\n",
       "  </tbody>\n",
       "</table>\n",
       "<p>10002 rows × 1 columns</p>\n",
       "</div>"
      ],
      "text/plain": [
       "                                                       0\n",
       "0      Nick Cannon is getting some rest after coming ...\n",
       "1      Team USA eliminated from the World Cup after a...\n",
       "2      A man has been arrested and charged with murde...\n",
       "3      Right-wing conspiracy theorist Alex Jones file...\n",
       "4      America added a robust 263,000 jobs last month...\n",
       "...                                                  ...\n",
       "9997   Someone sedate E! ❤️ Sandra Oh had a mini Grey...\n",
       "9998   Tori Spelling's Best Friend and \"Guncle\" Scout...\n",
       "9999   Zendaya and More Best Dressed Stars at the 202...\n",
       "10000  Pete Davidson Makes Surprise Appearance at 202...\n",
       "10001  Yes, Kenan Thompson Really Danced to Theme Son...\n",
       "\n",
       "[10002 rows x 1 columns]"
      ]
     },
     "execution_count": 15,
     "metadata": {},
     "output_type": "execute_result"
    }
   ],
   "source": [
    "real"
   ]
  },
  {
   "cell_type": "code",
   "execution_count": null,
   "metadata": {},
   "outputs": [],
   "source": [
    "# while on my mac\n",
    "# cnn_tweets = pd.read_csv('/Users/lucashawranke/Documents/data-science/sarcasm-scanner/data/cnn_tweets.csv')\n",
    "# onion_tweets = pd.read_csv('/Users/lucashawranke/Documents/data-science/sarcasm-scanner/data/onion_tweets.csv')\n",
    "\n",
    "# while on my pc\n",
    "real_tweets = pd.read_csv('/Users/lucas/data-science/sarcasm-scanner/data/cnn_tweets.csv')\n",
    "satire_tweets = pd.read_csv('/Users/lucas/data-science/sarcasm-scanner/data/onion_tweets.csv')"
   ]
  },
  {
   "cell_type": "code",
   "execution_count": 22,
   "metadata": {},
   "outputs": [],
   "source": [
    "for i,tweet in enumerate(sntwitter.TwitterSearchScraper('from:theonion').get_items()):\n",
    "    if i>5000:\n",
    "        break\n",
    "    satire.append([tweet.content])"
   ]
  },
  {
   "cell_type": "code",
   "execution_count": 23,
   "metadata": {},
   "outputs": [],
   "source": [
    "for i,tweet in enumerate(sntwitter.TwitterSearchScraper('from:clickhole').get_items()):\n",
    "    if i>5000:\n",
    "        break\n",
    "    satire.append([tweet.content])"
   ]
  },
  {
   "cell_type": "code",
   "execution_count": 24,
   "metadata": {},
   "outputs": [],
   "source": [
    "satire = pd.DataFrame(satire)"
   ]
  },
  {
   "cell_type": "code",
   "execution_count": 25,
   "metadata": {},
   "outputs": [
    {
     "data": {
      "text/html": [
       "<div>\n",
       "<style scoped>\n",
       "    .dataframe tbody tr th:only-of-type {\n",
       "        vertical-align: middle;\n",
       "    }\n",
       "\n",
       "    .dataframe tbody tr th {\n",
       "        vertical-align: top;\n",
       "    }\n",
       "\n",
       "    .dataframe thead th {\n",
       "        text-align: right;\n",
       "    }\n",
       "</style>\n",
       "<table border=\"1\" class=\"dataframe\">\n",
       "  <thead>\n",
       "    <tr style=\"text-align: right;\">\n",
       "      <th></th>\n",
       "      <th>0</th>\n",
       "    </tr>\n",
       "  </thead>\n",
       "  <tbody>\n",
       "    <tr>\n",
       "      <th>0</th>\n",
       "      <td>Zoo Assures Public Escaped Leopard Will Kill T...</td>\n",
       "    </tr>\n",
       "    <tr>\n",
       "      <th>1</th>\n",
       "      <td>Chobani Recalls Thousands Of Yogurts That Gave...</td>\n",
       "    </tr>\n",
       "    <tr>\n",
       "      <th>2</th>\n",
       "      <td>https://t.co/yDexD4IuWw</td>\n",
       "    </tr>\n",
       "    <tr>\n",
       "      <th>3</th>\n",
       "      <td>Determined Ant Requires Second Flicking https:...</td>\n",
       "    </tr>\n",
       "    <tr>\n",
       "      <th>4</th>\n",
       "      <td>It Instantly Clear Girlfriend Used To Fuck Guy...</td>\n",
       "    </tr>\n",
       "  </tbody>\n",
       "</table>\n",
       "</div>"
      ],
      "text/plain": [
       "                                                   0\n",
       "0  Zoo Assures Public Escaped Leopard Will Kill T...\n",
       "1  Chobani Recalls Thousands Of Yogurts That Gave...\n",
       "2                            https://t.co/yDexD4IuWw\n",
       "3  Determined Ant Requires Second Flicking https:...\n",
       "4  It Instantly Clear Girlfriend Used To Fuck Guy..."
      ]
     },
     "execution_count": 25,
     "metadata": {},
     "output_type": "execute_result"
    }
   ],
   "source": [
    "satire.head()"
   ]
  },
  {
   "cell_type": "code",
   "execution_count": 27,
   "metadata": {},
   "outputs": [],
   "source": [
    "satire.to_csv('/Users/lucashawranke/documents/data-science/sarcasm-scanner/data/satire_tweets.csv') #pc"
   ]
  },
  {
   "cell_type": "code",
   "execution_count": 28,
   "metadata": {},
   "outputs": [
    {
     "data": {
      "text/html": [
       "<div>\n",
       "<style scoped>\n",
       "    .dataframe tbody tr th:only-of-type {\n",
       "        vertical-align: middle;\n",
       "    }\n",
       "\n",
       "    .dataframe tbody tr th {\n",
       "        vertical-align: top;\n",
       "    }\n",
       "\n",
       "    .dataframe thead th {\n",
       "        text-align: right;\n",
       "    }\n",
       "</style>\n",
       "<table border=\"1\" class=\"dataframe\">\n",
       "  <thead>\n",
       "    <tr style=\"text-align: right;\">\n",
       "      <th></th>\n",
       "      <th>0</th>\n",
       "    </tr>\n",
       "  </thead>\n",
       "  <tbody>\n",
       "    <tr>\n",
       "      <th>0</th>\n",
       "      <td>Zoo Assures Public Escaped Leopard Will Kill T...</td>\n",
       "    </tr>\n",
       "    <tr>\n",
       "      <th>1</th>\n",
       "      <td>Chobani Recalls Thousands Of Yogurts That Gave...</td>\n",
       "    </tr>\n",
       "    <tr>\n",
       "      <th>2</th>\n",
       "      <td>https://t.co/yDexD4IuWw</td>\n",
       "    </tr>\n",
       "    <tr>\n",
       "      <th>3</th>\n",
       "      <td>Determined Ant Requires Second Flicking https:...</td>\n",
       "    </tr>\n",
       "    <tr>\n",
       "      <th>4</th>\n",
       "      <td>It Instantly Clear Girlfriend Used To Fuck Guy...</td>\n",
       "    </tr>\n",
       "    <tr>\n",
       "      <th>...</th>\n",
       "      <td>...</td>\n",
       "    </tr>\n",
       "    <tr>\n",
       "      <th>9997</th>\n",
       "      <td>Are You A Widow? https://t.co/UWZLPewsKD https...</td>\n",
       "    </tr>\n",
       "    <tr>\n",
       "      <th>9998</th>\n",
       "      <td>Michael B. Jordan Said What?! https://t.co/y4F...</td>\n",
       "    </tr>\n",
       "    <tr>\n",
       "      <th>9999</th>\n",
       "      <td>Did ‘Sesame Street’ Go Too Far With Its Episod...</td>\n",
       "    </tr>\n",
       "    <tr>\n",
       "      <th>10000</th>\n",
       "      <td>Close Fucking Call: This Product That Got A Ne...</td>\n",
       "    </tr>\n",
       "    <tr>\n",
       "      <th>10001</th>\n",
       "      <td>Oh fuck. https://t.co/HQEBco5XzS</td>\n",
       "    </tr>\n",
       "  </tbody>\n",
       "</table>\n",
       "<p>10002 rows × 1 columns</p>\n",
       "</div>"
      ],
      "text/plain": [
       "                                                       0\n",
       "0      Zoo Assures Public Escaped Leopard Will Kill T...\n",
       "1      Chobani Recalls Thousands Of Yogurts That Gave...\n",
       "2                                https://t.co/yDexD4IuWw\n",
       "3      Determined Ant Requires Second Flicking https:...\n",
       "4      It Instantly Clear Girlfriend Used To Fuck Guy...\n",
       "...                                                  ...\n",
       "9997   Are You A Widow? https://t.co/UWZLPewsKD https...\n",
       "9998   Michael B. Jordan Said What?! https://t.co/y4F...\n",
       "9999   Did ‘Sesame Street’ Go Too Far With Its Episod...\n",
       "10000  Close Fucking Call: This Product That Got A Ne...\n",
       "10001                   Oh fuck. https://t.co/HQEBco5XzS\n",
       "\n",
       "[10002 rows x 1 columns]"
      ]
     },
     "execution_count": 28,
     "metadata": {},
     "output_type": "execute_result"
    }
   ],
   "source": [
    "satire"
   ]
  },
  {
   "cell_type": "code",
   "execution_count": 29,
   "metadata": {},
   "outputs": [],
   "source": [
    "train_x = real[:8000]\n",
    "train_y = satire[:8000]\n",
    "\n",
    "test_x = real[-2000:]\n",
    "test_y = satire[-2000:]"
   ]
  },
  {
   "cell_type": "code",
   "execution_count": 46,
   "metadata": {},
   "outputs": [],
   "source": [
    "real.columns = ['Tweets']\n",
    "satire.columns = ['Tweets']"
   ]
  },
  {
   "cell_type": "code",
   "execution_count": 54,
   "metadata": {},
   "outputs": [],
   "source": [
    "real['Authenticity'] = 'real'\n",
    "satire['Authenticity'] = 'satire'\n",
    "df = pd.concat([real, satire])"
   ]
  },
  {
   "cell_type": "code",
   "execution_count": 56,
   "metadata": {},
   "outputs": [
    {
     "data": {
      "text/html": [
       "<div>\n",
       "<style scoped>\n",
       "    .dataframe tbody tr th:only-of-type {\n",
       "        vertical-align: middle;\n",
       "    }\n",
       "\n",
       "    .dataframe tbody tr th {\n",
       "        vertical-align: top;\n",
       "    }\n",
       "\n",
       "    .dataframe thead th {\n",
       "        text-align: right;\n",
       "    }\n",
       "</style>\n",
       "<table border=\"1\" class=\"dataframe\">\n",
       "  <thead>\n",
       "    <tr style=\"text-align: right;\">\n",
       "      <th></th>\n",
       "      <th>Tweets</th>\n",
       "      <th>x</th>\n",
       "      <th>y</th>\n",
       "      <th>Authenticity</th>\n",
       "    </tr>\n",
       "  </thead>\n",
       "  <tbody>\n",
       "    <tr>\n",
       "      <th>0</th>\n",
       "      <td>Nick Cannon is getting some rest after coming ...</td>\n",
       "      <td>-0.978836</td>\n",
       "      <td>-0.143123</td>\n",
       "      <td>real</td>\n",
       "    </tr>\n",
       "    <tr>\n",
       "      <th>1</th>\n",
       "      <td>Team USA eliminated from the World Cup after a...</td>\n",
       "      <td>1.521023</td>\n",
       "      <td>0.056310</td>\n",
       "      <td>real</td>\n",
       "    </tr>\n",
       "    <tr>\n",
       "      <th>2</th>\n",
       "      <td>A man has been arrested and charged with murde...</td>\n",
       "      <td>1.675625</td>\n",
       "      <td>-0.050077</td>\n",
       "      <td>real</td>\n",
       "    </tr>\n",
       "    <tr>\n",
       "      <th>3</th>\n",
       "      <td>Right-wing conspiracy theorist Alex Jones file...</td>\n",
       "      <td>-0.458398</td>\n",
       "      <td>0.702156</td>\n",
       "      <td>real</td>\n",
       "    </tr>\n",
       "    <tr>\n",
       "      <th>4</th>\n",
       "      <td>America added a robust 263,000 jobs last month...</td>\n",
       "      <td>1.077831</td>\n",
       "      <td>0.476888</td>\n",
       "      <td>real</td>\n",
       "    </tr>\n",
       "    <tr>\n",
       "      <th>...</th>\n",
       "      <td>...</td>\n",
       "      <td>...</td>\n",
       "      <td>...</td>\n",
       "      <td>...</td>\n",
       "    </tr>\n",
       "    <tr>\n",
       "      <th>9997</th>\n",
       "      <td>Are You A Widow? https://t.co/UWZLPewsKD https...</td>\n",
       "      <td>-0.850005</td>\n",
       "      <td>0.144320</td>\n",
       "      <td>satire</td>\n",
       "    </tr>\n",
       "    <tr>\n",
       "      <th>9998</th>\n",
       "      <td>Michael B. Jordan Said What?! https://t.co/y4F...</td>\n",
       "      <td>-0.486319</td>\n",
       "      <td>-1.135245</td>\n",
       "      <td>satire</td>\n",
       "    </tr>\n",
       "    <tr>\n",
       "      <th>9999</th>\n",
       "      <td>Did ‘Sesame Street’ Go Too Far With Its Episod...</td>\n",
       "      <td>-0.046387</td>\n",
       "      <td>0.584173</td>\n",
       "      <td>satire</td>\n",
       "    </tr>\n",
       "    <tr>\n",
       "      <th>10000</th>\n",
       "      <td>Close Fucking Call: This Product That Got A Ne...</td>\n",
       "      <td>0.008049</td>\n",
       "      <td>0.539663</td>\n",
       "      <td>satire</td>\n",
       "    </tr>\n",
       "    <tr>\n",
       "      <th>10001</th>\n",
       "      <td>Oh fuck. https://t.co/HQEBco5XzS</td>\n",
       "      <td>-0.498649</td>\n",
       "      <td>-0.964519</td>\n",
       "      <td>satire</td>\n",
       "    </tr>\n",
       "  </tbody>\n",
       "</table>\n",
       "<p>20004 rows × 4 columns</p>\n",
       "</div>"
      ],
      "text/plain": [
       "                                                  Tweets         x         y  \\\n",
       "0      Nick Cannon is getting some rest after coming ... -0.978836 -0.143123   \n",
       "1      Team USA eliminated from the World Cup after a...  1.521023  0.056310   \n",
       "2      A man has been arrested and charged with murde...  1.675625 -0.050077   \n",
       "3      Right-wing conspiracy theorist Alex Jones file... -0.458398  0.702156   \n",
       "4      America added a robust 263,000 jobs last month...  1.077831  0.476888   \n",
       "...                                                  ...       ...       ...   \n",
       "9997   Are You A Widow? https://t.co/UWZLPewsKD https... -0.850005  0.144320   \n",
       "9998   Michael B. Jordan Said What?! https://t.co/y4F... -0.486319 -1.135245   \n",
       "9999   Did ‘Sesame Street’ Go Too Far With Its Episod... -0.046387  0.584173   \n",
       "10000  Close Fucking Call: This Product That Got A Ne...  0.008049  0.539663   \n",
       "10001                   Oh fuck. https://t.co/HQEBco5XzS -0.498649 -0.964519   \n",
       "\n",
       "      Authenticity  \n",
       "0             real  \n",
       "1             real  \n",
       "2             real  \n",
       "3             real  \n",
       "4             real  \n",
       "...            ...  \n",
       "9997        satire  \n",
       "9998        satire  \n",
       "9999        satire  \n",
       "10000       satire  \n",
       "10001       satire  \n",
       "\n",
       "[20004 rows x 4 columns]"
      ]
     },
     "execution_count": 56,
     "metadata": {},
     "output_type": "execute_result"
    }
   ],
   "source": [
    "df"
   ]
  },
  {
   "cell_type": "code",
   "execution_count": 59,
   "metadata": {},
   "outputs": [],
   "source": [
    "train, test = train_test_split(df, test_size = 0.2, random_state = 42)"
   ]
  },
  {
   "cell_type": "markdown",
   "metadata": {},
   "source": [
    "### Creating/Running MultinomialNB Model"
   ]
  },
  {
   "cell_type": "code",
   "execution_count": 65,
   "metadata": {},
   "outputs": [
    {
     "data": {
      "text/plain": [
       "Pipeline(steps=[('vectorizer', TfidfVectorizer(stop_words='english')),\n",
       "                ('nb', MultinomialNB())])"
      ]
     },
     "execution_count": 65,
     "metadata": {},
     "output_type": "execute_result"
    }
   ],
   "source": [
    "mnb = MultinomialNB()\n",
    "vectorizer = TfidfVectorizer(stop_words = 'english')\n",
    "\n",
    "pipe = Pipeline([('vectorizer', vectorizer), ('nb', mnb)])\n",
    "pipe.fit(train.Tweets, train.Authenticity)"
   ]
  },
  {
   "cell_type": "code",
   "execution_count": 66,
   "metadata": {},
   "outputs": [
    {
     "name": "stdout",
     "output_type": "stream",
     "text": [
      "accuracy:  0.9087728067983004\n",
      "confusion matrix:  [[1925   91]\n",
      " [ 274 1711]]\n"
     ]
    }
   ],
   "source": [
    "predictions = pipe.predict(test.Tweets)\n",
    "print('accuracy: ', accuracy_score(test['Authenticity'], predictions))\n",
    "print('confusion matrix: ', confusion_matrix(test['Authenticity'], predictions))"
   ]
  },
  {
   "cell_type": "markdown",
   "metadata": {},
   "source": [
    "### As you can see, this model has an accuracy of 90.8%. Although we might be able to do better, let's test it out and see what happens:"
   ]
  },
  {
   "cell_type": "code",
   "execution_count": 67,
   "metadata": {},
   "outputs": [
    {
     "name": "stdout",
     "output_type": "stream",
     "text": [
      "['satire']\n"
     ]
    }
   ],
   "source": [
    "headline = np.array([[\"He Must Really Suck: This Kid Just Got Cut From The JV Basketball Team To Make A Spot For Skyler Gisondo\"]])\n",
    "predictions = pipe.predict(headline[0])\n",
    "\n",
    "print(predictions)"
   ]
  },
  {
   "cell_type": "markdown",
   "metadata": {},
   "source": [
    "### True! This article is from [another](https://clickhole.com/he-must-really-suck-this-kid-just-got-cut-from-the-jv-basketball-team-to-make-a-spot-for-skyler-gisondo/) satire news site."
   ]
  },
  {
   "cell_type": "code",
   "execution_count": 68,
   "metadata": {},
   "outputs": [
    {
     "data": {
      "text/plain": [
       "['/Users/lucashawranke/Documents/data-science/sarcasm-scanner/model.pkl']"
      ]
     },
     "execution_count": 68,
     "metadata": {},
     "output_type": "execute_result"
    }
   ],
   "source": [
    "joblib.dump(pipe, '/Users/lucashawranke/Documents/data-science/sarcasm-scanner/model.pkl') #mac\n",
    "# joblib.dump(pipe, '/Users/lucas/data-science/sarcasm-scanner/model.pkl') #pc"
   ]
  },
  {
   "cell_type": "code",
   "execution_count": null,
   "metadata": {},
   "outputs": [],
   "source": [
    "#mac\n",
    "# with open('/Users/lucashawranke/Documents/data-science/sarcasm-scanner/model.pkl', 'wb') as files:\n",
    "#     pickle.dump(pipe, files)\n",
    "#pc\n",
    "# with open('/Users/lucas/data-science/sarcasm-scanner/model.pkl', 'wb') as files:\n",
    "#     pickle.dump(pipe, files)"
   ]
  },
  {
   "cell_type": "code",
   "execution_count": 70,
   "metadata": {},
   "outputs": [
    {
     "name": "stdout",
     "output_type": "stream",
     "text": [
      "accuracy:  0.9492626843289178\n",
      "confusion matrix: [[1890  126]\n",
      " [  77 1908]]\n"
     ]
    }
   ],
   "source": [
    "svc = LinearSVC()\n",
    "vectorizer = TfidfVectorizer(stop_words = 'english')\n",
    "\n",
    "pipe = Pipeline([('vectorizer', vectorizer), ('svc', svc)])\n",
    "pipe.fit(train.Tweets, train.Authenticity)\n",
    "predictions = pipe.predict(test.Tweets)\n",
    "print('accuracy: ', accuracy_score(test['Authenticity'], predictions))\n",
    "print('confusion matrix:', confusion_matrix(test['Authenticity'], predictions))"
   ]
  },
  {
   "cell_type": "markdown",
   "metadata": {},
   "source": [
    "### Saving LinearSVC Model"
   ]
  },
  {
   "cell_type": "code",
   "execution_count": 71,
   "metadata": {},
   "outputs": [
    {
     "data": {
      "text/plain": [
       "['/Users/lucashawranke/documents/data-science/sarcasm-scanner/model2.pkl']"
      ]
     },
     "execution_count": 71,
     "metadata": {},
     "output_type": "execute_result"
    }
   ],
   "source": [
    "joblib.dump(pipe, '/Users/lucashawranke/documents/data-science/sarcasm-scanner/model2.pkl') #mac\n",
    "# joblib.dump(pipe, '/Users/lucas/data-science/sarcasm-scanner/model2.pkl') #pc"
   ]
  }
 ],
 "metadata": {
  "kernelspec": {
   "display_name": "Python 3.9.12",
   "language": "python",
   "name": "python3"
  },
  "language_info": {
   "codemirror_mode": {
    "name": "ipython",
    "version": 3
   },
   "file_extension": ".py",
   "mimetype": "text/x-python",
   "name": "python",
   "nbconvert_exporter": "python",
   "pygments_lexer": "ipython3",
   "version": "3.9.12"
  },
  "orig_nbformat": 4,
  "vscode": {
   "interpreter": {
    "hash": "0cc3b03a9a7e4010a291141970bf1cb2053c725e17844b2b26603859505c2b66"
   }
  }
 },
 "nbformat": 4,
 "nbformat_minor": 2
}
